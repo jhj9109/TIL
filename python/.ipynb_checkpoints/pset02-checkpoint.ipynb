{
 "cells": [
  {
   "cell_type": "markdown",
   "metadata": {},
   "source": [
    "## 보충 Q1.\n",
    "\n",
    "> 양수/음수/0의 비율을 각각 순서대로 출력하시오.\n",
    "\n",
    "```\n",
    "예시 입력)\n",
    "0 -1 3 5 \n",
    "\n",
    "예시 출력)\n",
    "0.5 0.25 0.25\n",
    "```\n",
    "\n"
   ]
  },
  {
   "cell_type": "code",
   "execution_count": 10,
   "metadata": {
    "scrolled": true
   },
   "outputs": [
    {
     "name": "stdout",
     "output_type": "stream",
     "text": [
      "1 2 3 4\n",
      "4 0 0\n"
     ]
    }
   ],
   "source": [
    "numbers = input()\n",
    "# 아래에 코드를 작성하세요.\n",
    "#map(적용할 이름, 적용할 iterable)\n",
    "int_num = list (map (lambda x:int(x),list(numbers.split(' ')) ))\n",
    "len_numbers = len(numbers)\n",
    "\n",
    "cnt1,cnt2,cnt3=0,0,0\n",
    "for i in int_num:\n",
    "    if i > 0 :\n",
    "        cnt1+=1\n",
    "    elif i == 0 :\n",
    "        cnt3+=1\n",
    "    else :\n",
    "        cnt2+=1\n",
    "print(f'{cnt1} {cnt2} {cnt3}') "
   ]
  },
  {
   "cell_type": "code",
   "execution_count": 33,
   "metadata": {},
   "outputs": [
    {
     "name": "stdout",
     "output_type": "stream",
     "text": [
      "0 -1 3 5 -2 -3 4 5 1\n",
      "5 1 3\n"
     ]
    }
   ],
   "source": [
    "#list comprehension\n",
    "#리스트를 순회하여, 특정 조건의 값들로 구성된 리스트를 만들 떄 사용한다\n",
    "#성능도 좋음\n",
    "tc = input()\n",
    "\n",
    "numbers = [int(n) for n in tc.split()]\n",
    "\n",
    "total = len(numbers)\n",
    "positive = len([number for number in numbers if number > 0])\n",
    "zero = len([number for number in numbers if number == 0])\n",
    "negative = len([number for number in numbers if number < 0])\n",
    "print(positive, zero, negative)"
   ]
  },
  {
   "cell_type": "markdown",
   "metadata": {},
   "source": [
    "## 보충 Q2.\n",
    "\n",
    "> justin과 neo가 카드게임을 하고 있다. 아래의 예시 값은 카드를 낸 순서이다. \n",
    ">\n",
    "> 숫자를 비교해서 같으면 0점, 숫자가 더 크면 1점이라고 할 때 justin과 neo의 점수를 순서대로 출력하시오.\n",
    "\n",
    "```\n",
    "예시 값)\n",
    "justin = [10, 6, 8, 2, 1]\n",
    "neo = [2, 7, 3, 5, 10]\n",
    "\n",
    "예시 출력)\n",
    "2 3\n",
    "```"
   ]
  },
  {
   "cell_type": "code",
   "execution_count": 11,
   "metadata": {
    "scrolled": true
   },
   "outputs": [
    {
     "name": "stdout",
     "output_type": "stream",
     "text": [
      "2 3\n"
     ]
    }
   ],
   "source": [
    "justin = [10, 6, 8, 2, 1]\n",
    "neo = [2, 7, 3, 5, 10]\n",
    "\n",
    "# 아래에 코드를 작성하세요.\n",
    "point_j, point_n=0 , 0\n",
    "for i in range(len(neo)):\n",
    "    if justin[i] > neo[i]:\n",
    "        point_j+=1\n",
    "    elif justin[i] < neo[i] :\n",
    "        point_n+=1\n",
    "print(f'{point_j} {point_n}')"
   ]
  },
  {
   "cell_type": "code",
   "execution_count": 34,
   "metadata": {},
   "outputs": [
    {
     "data": {
      "text/plain": [
       "[(10, 2), (6, 7), (8, 3), (2, 5), (1, 10)]"
      ]
     },
     "execution_count": 34,
     "metadata": {},
     "output_type": "execute_result"
    }
   ],
   "source": [
    "# zip()\n",
    "\n",
    "justin_score = 0\n",
    "neo_score = 0\n",
    "\n",
    "for j, n in list(zip(justin,neo)):\n",
    "    if j > n :\n",
    "        justin_score+=1\n",
    "    elif j < n :\n",
    "        neo_score+=1\n",
    "print(justin_score, neo_score)"
   ]
  },
  {
   "cell_type": "markdown",
   "metadata": {},
   "source": [
    "## 보충 Q3.\n",
    "\n",
    "> 두 단어 중에 중복된 알파벳이 있는지 여부를 판단하여 True 혹은 False를 반환하시오.\n",
    "\n",
    "```\n",
    "예시 입력)\n",
    "print(is_contain_same_alphabet('my', 'sweet home'))\n",
    "print(is_contain_same_alphabet('oreo', 'kikat'))\n",
    "\n",
    "예시 출력)\n",
    "True\n",
    "False\n",
    "```"
   ]
  },
  {
   "cell_type": "code",
   "execution_count": 37,
   "metadata": {},
   "outputs": [
    {
     "name": "stdout",
     "output_type": "stream",
     "text": [
      "True\n",
      "False\n"
     ]
    }
   ],
   "source": [
    "def is_contain_same_alphabet(a, b):\n",
    "    # 아래에 코드를 작성하시오.\n",
    "    for k in a:\n",
    "        for j in b:\n",
    "            if k==j:\n",
    "                return True\n",
    "    return False\n",
    "print(is_contain_same_alphabet('my', 'sweet home'))\n",
    "print(is_contain_same_alphabet('oreo', 'kikat'))"
   ]
  }
 ],
 "metadata": {
  "kernelspec": {
   "display_name": "Python 3",
   "language": "python",
   "name": "python3"
  },
  "language_info": {
   "codemirror_mode": {
    "name": "ipython",
    "version": 3
   },
   "file_extension": ".py",
   "mimetype": "text/x-python",
   "name": "python",
   "nbconvert_exporter": "python",
   "pygments_lexer": "ipython3",
   "version": "3.7.3"
  }
 },
 "nbformat": 4,
 "nbformat_minor": 2
}
