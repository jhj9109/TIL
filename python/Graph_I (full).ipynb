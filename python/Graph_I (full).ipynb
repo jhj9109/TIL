{
 "cells": [
  {
   "cell_type": "markdown",
   "metadata": {
    "colab_type": "text",
    "id": "k7SoewWo7-nt"
   },
   "source": [
    "# Graph I\n",
    "Graph Crash Course\n",
    "\n",
    "### 핵심내용\n",
    "- Graph\n",
    "- Graph 구현\n",
    "- Graph 탐색 (DFS & BFS)\n",
    "- Graph 관련 문제"
   ]
  },
  {
   "cell_type": "markdown",
   "metadata": {
    "colab_type": "text",
    "id": "7rFHP5k47-nv"
   },
   "source": [
    "## I. Graph\n",
    "\n",
    "> 정점(Node)과 간선(Edge)으로 표현된 자료구조\n",
    "\n",
    "### (1) Graph\n",
    "- **`정점(Node)` == `꼭지점(Vertex)`**\n",
    "    - **위치**를 의미한다.\n",
    "- **`간선(Edge)`** == **`아크(Arc)`**\n",
    "    - **위치 간의 관계를 표시한 선**을 의미한다.\n",
    "- `**인접 정점(Adjacent Vertex)**`\n",
    "    - 간선으로 직접 연결된 정점(노드)\n",
    "    \n",
    "### (1) Graph의 종류\n",
    "\n",
    "#### 1. 무방향 그래프(Undirected Graph)\n",
    "\n",
    "**방향이 없는 그래프**\n",
    "\n",
    "- 노드는 간선을 통해 양방향으로 갈 수 있다.\n",
    "- 일반적으로 노드 A, B가 연결되어 있는 경우 (A, B) 혹은 (B, A)로 표기한다.\n",
    "- **정점의 차수(Degree)**\n",
    "    - 무방향 그래프에서 **하나의 정점에 인접한 정점의 개수**\n",
    "    - A의 차수는 2(B, C)\n",
    "\n",
    "![graph1](https://drive.google.com/open?id=1Pp363qOe_389Ox6wUxbfmh0px2W78zib)\n",
    "\n",
    "#### 2. 방향 그래프(Directed Graph)\n",
    "\n",
    "**간선에 방향이 있는 그래프**\n",
    "\n",
    "- 일반적으로 노드 A, B가 A→B로 가는 간선이 연결되어 있을 때, <A, B>로 표기한다.\n",
    "    - <B, A>는 B→A로 가는 간선이므로 <A, B>와 다르다.\n",
    "- **진입차수(In-Degree)**\n",
    "    - 방향 그래프에서 **외부에서 오는 간선**의 수\n",
    "    - D의 진입차수는 2(B→D, C→D), C의 진입차수는 1(A→C)\n",
    "- **진출차수(Out-Degree)**\n",
    "    - 방향 그래프에서 **외부로 향하는 간선**의 수\n",
    "    - D의 진출차수는 0, C의 진출차수는 1(C→D)\n",
    "\n",
    "![graph2](https://drive.google.com/open?id=1hzw8e4iInImpoxP6nCzbkDa7ein-x7Ze)\n",
    "\n",
    "####  3. 가중치 그래프(Weighted Graph) 또는 네트워크(Network)\n",
    "\n",
    "**간선에 비용 또는 가중치가 할당된 그래프**\n",
    "\n",
    "- 두 노드 간의 **최소 비용 경로(최단 경로)**를 찾는 문제가 유명하다.\n",
    "    - 예를 들어 노드를 도시라고 생각하고, 간선을 도시를 연결하는 도로라고 가정하자. 간선에 매겨진 가중치는 이동하는데 걸리는 비용(시간, 통행료, 기름값 등)이라고 모델링할 수 있다.\n",
    "    - 서울에서 광주로 이동하는데 걸리는 비용\n",
    "        - 서울 → 구미 → 광주 : 9\n",
    "        - 서울 → 대전 → 광주 : 3 (⇒ 최소비용)\n",
    "\n",
    "![graph3](https://drive.google.com/open?id=1hkrtT91rvUex9RXwpQbkNBkkmrzI4BAL)\n",
    "\n",
    "#### 4. 연결 그래프(Connected Graph)와 비연결 그래프(Disconnected Graph)\n",
    "\n",
    "- **연결 그래프**\n",
    "    - 무방향 그래프에 있는 **모든 노드의 경로가 존재**하는 경우\n",
    "\n",
    "![graph4](img/graph1_src4.png)\n",
    "\n",
    "- **비연결 그래프**\n",
    "    - 무방향 그래프에서 **특정 노드의 경로가 존재하지 않**는 경우\n",
    "\n",
    "![graph5](img/graph1_src5.png)\n",
    "\n",
    "\n",
    "### 3.5 완전 그래프\n",
    "\n",
    "그래프의 **모든 노드가 서로 연결**되어 있는 그래프\n",
    "\n",
    "![graph6](img/graph1_src6.png)"
   ]
  },
  {
   "cell_type": "markdown",
   "metadata": {
    "colab_type": "text",
    "id": "ULAfnIyl7-nx"
   },
   "source": [
    "## II. Graph 구현 & 표현\n",
    "\n",
    "### (1) 인접행렬(Adjacency Matrix)\n",
    "2차배열을 통해 노드들의 연결상태를 표현\n",
    "#### 1. Undirected Graph\n",
    "\n",
    "#### 2. Directed Graph\n",
    "![graph7](img/graph1_src8.png)"
   ]
  },
  {
   "cell_type": "markdown",
   "metadata": {
    "colab_type": "text",
    "id": "bgmcQ_PR7-ny"
   },
   "source": [
    "### (2) 인접리스트(Adjacency List)\n",
    "\n",
    "#### 1. 2차배열 활용\n",
    "\n",
    "#### 2. dictionary 활용\n",
    "\n",
    "#### 3. 카운트배열 활용 : 테크닉한 부분\n"
   ]
  },
  {
   "cell_type": "code",
   "execution_count": 0,
   "metadata": {
    "colab": {},
    "colab_type": "code",
    "id": "WTeNX19q7-nz"
   },
   "outputs": [],
   "source": []
  },
  {
   "cell_type": "markdown",
   "metadata": {
    "colab_type": "text",
    "id": "O8Dot6gK7-n5"
   },
   "source": [
    "### (4) Graph 표현 별 공간(Space) 복잡도 및 시간(Time) 복잡도\n",
    "#### 1. 공간복잡도\n",
    "- 인접 행렬: `O(V**2)` (정점의 개수)\n",
    "\n",
    "- **인접 리스트: `O(E)`** (간선의 개수)\n",
    "\n",
    "- **대부분의 경우 `E < V**2`**\n",
    "\n",
    "#### 2. 시간복잡도\n",
    "- **인접행렬**\n",
    "    - **두 정점 간의 연결 여부**(간선의 유무)를 확인하는데 유리(`O(1)`)\n",
    "        - `G[a][b]`\n",
    "    - 정점 A와 연결된 모든 간선\n",
    "        - `O(|V|)`\n",
    "- 인접리스트\n",
    "    - 두 정점 간의 연결 여부(간선의 유무)를 확인하는데 유리(`O(1)`) >>> O(n)정도\n",
    "        - `G[a][b]`\n",
    "    - 정점 A와 연결된 모든 간선 (가장 빈번하게 출제되는 문제)\n",
    "        - `O(A의 차수)`\n",
    "- 비고 : 완전그래프의 경우 "
   ]
  },
  {
   "cell_type": "markdown",
   "metadata": {
    "colab_type": "text",
    "id": "mbFH3gPn7-n5"
   },
   "source": [
    "## VI. Graph 탐색 (DFS & BFS)\n",
    "\n",
    "![dfsbfs](https://practice.geeksforgeeks.org/ckeditor/images/uploads/1533114033_binary_tree_search.png)\n",
    "\n",
    "> 그래프 탐색의 목적 : 특정 정점을 시작으로 하여 모든 정점을 한 번씩 조회\n",
    "\n",
    "### (1) DFS(Depth First Search): 깊이 우선 탐색\n",
    "\n",
    "### (2) BFS(Breadth First Search): 너비 우선 탐색"
   ]
  },
  {
   "cell_type": "code",
   "execution_count": 0,
   "metadata": {
    "colab": {},
    "colab_type": "code",
    "id": "85ZoqrDH7-n6"
   },
   "outputs": [],
   "source": []
  },
  {
   "cell_type": "markdown",
   "metadata": {
    "colab_type": "text",
    "id": "mGJ5Ez3U7-n9"
   },
   "source": [
    "## V. Graph 관련 문제\n",
    "\n",
    "### 기초\n",
    "- [BOJ ABCDE](https://www.acmicpc.net/problem/13023)\n",
    "- [BOJ DFS와 BFS](https://www.acmicpc.net/problem/1260)\n",
    "- [BOJ 연결 요소의 개수](https://www.acmicpc.net/problem/11724)\n",
    "- [BOJ 이분 그래프]()\n",
    "\n",
    "### 응용\n",
    "- [그래프 경로](https://swexpertacademy.com/main/learn/course/subjectDetail.do?courseId=AVuPDN86AAXw5UW6&subjectId=AWOVHzyqqe8DFAWg#)"
   ]
  }
 ],
 "metadata": {
  "colab": {
   "name": "Graph_I (full).ipynb",
   "provenance": []
  },
  "kernelspec": {
   "display_name": "Python 3",
   "language": "python",
   "name": "python3"
  },
  "language_info": {
   "codemirror_mode": {
    "name": "ipython",
    "version": 3
   },
   "file_extension": ".py",
   "mimetype": "text/x-python",
   "name": "python",
   "nbconvert_exporter": "python",
   "pygments_lexer": "ipython3",
   "version": "3.7.3"
  }
 },
 "nbformat": 4,
 "nbformat_minor": 1
}
