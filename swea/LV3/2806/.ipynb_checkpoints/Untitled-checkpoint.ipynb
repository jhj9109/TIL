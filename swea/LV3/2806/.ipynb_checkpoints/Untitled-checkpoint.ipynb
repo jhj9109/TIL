{
 "cells": [
  {
   "cell_type": "code",
   "execution_count": 4,
   "metadata": {},
   "outputs": [
    {
     "name": "stdout",
     "output_type": "stream",
     "text": [
      "[[False, False, False], [1, 1, 1], [2, 2, 2]]\n",
      "1\n"
     ]
    }
   ],
   "source": [
    "d = [\n",
    "    [0,0,0],\n",
    "    [1,1,1],\n",
    "    [2,2,2],\n",
    "]\n",
    "d[0] = [False]*3\n",
    "print(d)\n",
    "\n",
    "if d[0] == [False]*3:\n",
    "    print(1)\n",
    "else:\n",
    "    print(2)\n",
    "    \n",
    "d[0][1] = True\n",
    "d[0] = list(d[i]*1for i in range(size))\n",
    "print(d[0])"
   ]
  }
 ],
 "metadata": {
  "kernelspec": {
   "display_name": "Python 3",
   "language": "python",
   "name": "python3"
  },
  "language_info": {
   "codemirror_mode": {
    "name": "ipython",
    "version": 3
   },
   "file_extension": ".py",
   "mimetype": "text/x-python",
   "name": "python",
   "nbconvert_exporter": "python",
   "pygments_lexer": "ipython3",
   "version": "3.7.6"
  }
 },
 "nbformat": 4,
 "nbformat_minor": 4
}
