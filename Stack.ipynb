{
 "cells": [
  {
   "cell_type": "markdown",
   "metadata": {},
   "source": [
    "# Stack I\n",
    "\n",
    "### 핵심내용\n",
    "- Stack\n",
    "- Stack 활용\n",
    "- Stack 구현\n",
    "- Stack 관련 문제\n",
    "\n"
   ]
  },
  {
   "cell_type": "markdown",
   "metadata": {},
   "source": [
    "## I. Stack\n",
    "\n",
    "> 데이터의 추가와 제거를 한 방향으로 제한한 자료구조\n",
    "\n",
    "- 물건을 쌓아 올리듯 자료를 쌓아올린(Stack) 형태의 자료구조\n",
    "    - **입력되는 순서대로 쌓고, 나중에 들어온 것부터 먼저 사용**하는 자료구조\n",
    "- **후입선출(LIFO, Last In First Out)**\n",
    "\n",
    "![stack](img/stack1_src1.png)\n",
    "\n",
    "- Stack에서 데이터의 추가는 `push`, 제거는 `pop`\n",
    "\n",
    "![stack](img/stack1_src2.png)\n",
    "\n",
    "- 가장 위(`top`)에 있는 데이터만 볼 수 있음\n",
    "- Stack의 중간 요소는 접근 불가능(제거가 필요할 경우 연속된 `pop()` 을 통해 가능)\n",
    "    - 만약 Stack의 중간 요소를 삭제해야 하는 필요가 있을 경우, Stack을 자료구조로 선택하면 안됨"
   ]
  },
  {
   "cell_type": "markdown",
   "metadata": {},
   "source": [
    "## II. Stack 활용\n",
    "\n",
    "### (1) 알고리즘에서의 활용\n",
    "- ~~또~~괄호, ~~또~~후위표기법\n",
    "- 문자열 뒤집기\n",
    "- 순서를 뒤집는 경우\n",
    "- 상승 -> 하강 패턴의 문제\n",
    "- **DFS**\n",
    "\n",
    "> 실제 SW에서 활용의 예시? 함수호출, 실행취소, 브라우저 히스토리 등등\n",
    "\n",
    "### (2) python에서의 활용\n",
    "#### 1. list를 활용한 예시\n",
    "- python의 list는 있는 그대로 stack으로 활용 가능\n",
    "- `list.append()` & `list.pop()`\n",
    "\n",
    "#### 2. `collections.deque`를 활용하기\n",
    "- double-ended queue \n",
    "- 데이터를 양방향으로 추가/제거 가능하고, 내장 list보다 활용도가 높음 (https://wiki.python.org/moin/TimeComplexity)\n",
    "- 특히나 `queue`의 경우 반드시 list를 활용하기 보다 `deque`를 활용하는 것이 좋음 (`list.pop(0)`)"
   ]
  },
  {
   "cell_type": "markdown",
   "metadata": {},
   "source": [
    "## III. Stack 구현\n",
    "\n",
    "### (1) list를 활용한 함수 구현"
   ]
  },
  {
   "cell_type": "code",
   "execution_count": null,
   "metadata": {},
   "outputs": [],
   "source": []
  },
  {
   "cell_type": "markdown",
   "metadata": {},
   "source": [
    "### (2) Class를 통한 객체 구현"
   ]
  },
  {
   "cell_type": "code",
   "execution_count": null,
   "metadata": {},
   "outputs": [],
   "source": []
  },
  {
   "cell_type": "code",
   "execution_count": 2,
   "metadata": {},
   "outputs": [
    {
     "name": "stdout",
     "output_type": "stream",
     "text": [
      "deque([1, 2, 3, 4, 5])\n"
     ]
    }
   ],
   "source": [
    "from collections import deque\n",
    "'''\n",
    "deque\n",
    "append\n",
    "pop\n",
    "appendLeft\n",
    "popLeft\n",
    "'''\n",
    "stack = deque()\n",
    "\n",
    "stack.append(1)\n",
    "stack.append(2)\n",
    "stack.append(3)\n",
    "stack.append(4)\n",
    "stack.append(5)\n",
    "print(stack)"
   ]
  },
  {
   "cell_type": "markdown",
   "metadata": {},
   "source": [
    "## IV. Stack 관련 문제\n",
    "\n",
    "### 기초\n",
    "- [BOJ 스택](https://www.acmicpc.net/problem/10828)\n",
    "- [BOJ 제로](https://www.acmicpc.net/problem/10773)\n",
    "- [BOJ 괄호](https://www.acmicpc.net/problem/9012)\n",
    "\n",
    "### 응용\n",
    "- [괄호검사](https://swexpertacademy.com/main/learn/course/subjectDetail.do?courseId=AVuPDN86AAXw5UW6&subjectId=AWOVHzyqqe8DFAWg#)\n",
    "- [반복문자 지우기](https://swexpertacademy.com/main/learn/course/subjectDetail.do?courseId=AVuPDN86AAXw5UW6&subjectId=AWOVHzyqqe8DFAWg#)"
   ]
  }
 ],
 "metadata": {
  "kernelspec": {
   "display_name": "Python 3",
   "language": "python",
   "name": "python3"
  },
  "language_info": {
   "codemirror_mode": {
    "name": "ipython",
    "version": 3
   },
   "file_extension": ".py",
   "mimetype": "text/x-python",
   "name": "python",
   "nbconvert_exporter": "python",
   "pygments_lexer": "ipython3",
   "version": "3.7.3"
  }
 },
 "nbformat": 4,
 "nbformat_minor": 2
}
