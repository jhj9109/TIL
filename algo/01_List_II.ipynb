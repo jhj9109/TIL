{
 "cells": [
  {
   "cell_type": "markdown",
   "metadata": {},
   "source": [
    "# List II\n",
    "\n",
    "### 핵심내용\n",
    "- 2차원 리스트\n",
    "- 부분집합\n",
    "- 검색 (순차 & 이진)\n",
    "- 정렬 (선택정렬)\n",
    "\n"
   ]
  },
  {
   "cell_type": "markdown",
   "metadata": {},
   "source": [
    "## I. 2차원 리스트 \n",
    "\n",
    "### (1) 2차원 List?\n",
    "1. 1차원 List를 묶어놓은 List\n",
    "2. 2차원 이상의 다차원 List는 차원에 따라 Index를 선언\n",
    "3. 2차원 List의 선언 : 세로길이(행의 개수) & 가로길이(열의 개수)를 필요로 함"
   ]
  },
  {
   "cell_type": "code",
   "execution_count": null,
   "metadata": {},
   "outputs": [],
   "source": [
    "## 2차원 List 선언\n"
   ]
  },
  {
   "cell_type": "markdown",
   "metadata": {},
   "source": [
    "### (2) 2차원 List 초기화 방법"
   ]
  },
  {
   "cell_type": "code",
   "execution_count": 4,
   "metadata": {},
   "outputs": [
    {
     "data": {
      "text/plain": [
       "[[0, 0, 0], [0, 0, 0], [0, 0, 0]]"
      ]
     },
     "execution_count": 4,
     "metadata": {},
     "output_type": "execute_result"
    }
   ],
   "source": [
    "arr = [\n",
    "    [0, 0, 0,],\n",
    "    [0, 0, 0,],\n",
    "    [0, 0, 0,],\n",
    "]\n",
    "\n",
    "arr_2 = []\n",
    "for _ in range(3):\n",
    "    arr_2.append([0]*3)\n",
    "[[0,0,0] for _ in range(3)]"
   ]
  },
  {
   "cell_type": "markdown",
   "metadata": {},
   "source": [
    "### (3) 2차원 List 입력 받기"
   ]
  },
  {
   "cell_type": "code",
   "execution_count": 7,
   "metadata": {},
   "outputs": [
    {
     "name": "stdout",
     "output_type": "stream",
     "text": [
      "3 4\n",
      "0 1 0 0\n",
      "0 0 0 0\n",
      "0 0 1 0\n"
     ]
    }
   ],
   "source": [
    "## 예시 1\n",
    "\"\"\"\n",
    "3 4\n",
    "0 1 0 0\n",
    "0 0 0 0\n",
    "0 0 1 0\n",
    "\"\"\"\n",
    "n, m = map(int, input().split())\n",
    "\n",
    "arr = []\n",
    "for i in range(n):\n",
    "    arr.append(list( map(int, input().split()) ))\n"
   ]
  },
  {
   "cell_type": "code",
   "execution_count": 8,
   "metadata": {},
   "outputs": [
    {
     "name": "stdout",
     "output_type": "stream",
     "text": [
      "3 4\n",
      "0 1 0 0\n",
      "0 0 0 0\n",
      "0 0 1 0\n"
     ]
    }
   ],
   "source": [
    "## 예시 2\n",
    "n, m = map(int, input().split())\n",
    "\n",
    "arr = [ list( map(int, input().split()) ) for _ in range(n)]"
   ]
  },
  {
   "cell_type": "code",
   "execution_count": null,
   "metadata": {},
   "outputs": [],
   "source": [
    "## 예시 3\n",
    "\n"
   ]
  },
  {
   "cell_type": "markdown",
   "metadata": {},
   "source": [
    "### (4) 2차원 List에서 원하는 데이터의 위치 찾기"
   ]
  },
  {
   "cell_type": "code",
   "execution_count": 16,
   "metadata": {},
   "outputs": [
    {
     "name": "stdout",
     "output_type": "stream",
     "text": [
      "[[0, 1], [2, 2]]\n"
     ]
    }
   ],
   "source": [
    "## 예시 1\n",
    "arr = [\n",
    "    [0, 1, 0, 0,],\n",
    "    [0, 0, 0, 0,],\n",
    "    [0, 0, 1, 0,],\n",
    "]\n",
    "n ,m = 3, 4\n",
    "idx_arr = []\n",
    "for i in range(n):\n",
    "    for j in range(m):\n",
    "        if arr[i][j] == 1: #찾고자하는 특정 값\n",
    "            idx_arr.append([i,j])\n",
    "\n",
    "idx_arr2 = [[i,j] for i in range(n) for j in range(m) if arr[i][j] == 1]\n",
    "print(idx_arr)"
   ]
  },
  {
   "cell_type": "code",
   "execution_count": 17,
   "metadata": {},
   "outputs": [
    {
     "name": "stdout",
     "output_type": "stream",
     "text": [
      "\n",
      "1,\n",
      "2,\n",
      "1,2,\n",
      "3,\n",
      "1,3,\n",
      "2,3,\n",
      "1,2,3,\n",
      "4,\n",
      "1,4,\n",
      "2,4,\n",
      "1,2,4,\n",
      "3,4,\n",
      "1,3,4,\n",
      "2,3,4,\n",
      "1,2,3,4,\n",
      "5,\n",
      "1,5,\n",
      "2,5,\n",
      "1,2,5,\n",
      "3,5,\n",
      "1,3,5,\n",
      "2,3,5,\n",
      "1,2,3,5,\n",
      "4,5,\n",
      "1,4,5,\n",
      "2,4,5,\n",
      "1,2,4,5,\n",
      "3,4,5,\n",
      "1,3,4,5,\n",
      "2,3,4,5,\n",
      "1,2,3,4,5,\n",
      "6,\n",
      "1,6,\n",
      "2,6,\n",
      "1,2,6,\n",
      "3,6,\n",
      "1,3,6,\n",
      "2,3,6,\n",
      "1,2,3,6,\n",
      "4,6,\n",
      "1,4,6,\n",
      "2,4,6,\n",
      "1,2,4,6,\n",
      "3,4,6,\n",
      "1,3,4,6,\n",
      "2,3,4,6,\n",
      "1,2,3,4,6,\n",
      "5,6,\n",
      "1,5,6,\n",
      "2,5,6,\n",
      "1,2,5,6,\n",
      "3,5,6,\n",
      "1,3,5,6,\n",
      "2,3,5,6,\n",
      "1,2,3,5,6,\n",
      "4,5,6,\n",
      "1,4,5,6,\n",
      "2,4,5,6,\n",
      "1,2,4,5,6,\n",
      "3,4,5,6,\n",
      "1,3,4,5,6,\n",
      "2,3,4,5,6,\n",
      "1,2,3,4,5,6,\n"
     ]
    }
   ],
   "source": [
    "## 예시 2\n",
    "\n",
    "arr = [1,2,3,4,5,6]\n",
    "n = len(arr)\n",
    "for i in range(1<<n): # i : 0~63 = 000000~111111까지\n",
    "    for j in range(n):\n",
    "        if i&(1<<j): # 000001 부터 100000까지 >>> i에 속한 1 갯수\n",
    "            print(arr[j], end=\",\")\n",
    "    print()\n"
   ]
  },
  {
   "cell_type": "markdown",
   "metadata": {},
   "source": [
    "### (5) 2차원 List의 순회"
   ]
  },
  {
   "cell_type": "code",
   "execution_count": null,
   "metadata": {},
   "outputs": [],
   "source": [
    "# n x m List의 n * m 개의 모든 원소를 빠짐없이 조사하는 방법\n",
    "\n",
    "## 행 우선 순회\n",
    "for i in range(n):\n",
    "    for j in range(m):\n",
    "        if arr[i][j] == 1: #찾고자하는 특정 값\n",
    "            idx_arr.append([i,j])"
   ]
  },
  {
   "cell_type": "code",
   "execution_count": null,
   "metadata": {},
   "outputs": [],
   "source": [
    "## 열 우선 순회\n",
    "for i in range(n):\n",
    "    for j in range(m):\n",
    "        if arr[j][i] == 1: #찾고자하는 특정 값\n",
    "            idx_arr.append([i,j])"
   ]
  },
  {
   "cell_type": "code",
   "execution_count": 60,
   "metadata": {},
   "outputs": [
    {
     "name": "stdout",
     "output_type": "stream",
     "text": [
      "[0, 1, 2, 3, 7, 6, 5, 4, 8, 9, 0, 1]\n"
     ]
    }
   ],
   "source": [
    "## 지그재그 순회\n",
    "# i : 행의 좌표, n = len(arr)\n",
    "# j : 열의 좌표, m = len(arr[0])\n",
    "arr = [\n",
    "    [0, 1, 2, 3,],\n",
    "    [4, 5, 6, 7,],\n",
    "    [8, 9, 0, 1,],\n",
    "]\n",
    "new_arr = []\n",
    "for i in range(len(arr)):\n",
    "    for j in range(len(arr[0])):\n",
    "        new_arr.append(arr[i][j+ (len(arr[0]) -1 -2*j ) * (i%2)])\n",
    "print(new_arr)"
   ]
  },
  {
   "cell_type": "markdown",
   "metadata": {},
   "source": [
    "### (6) 델타를 이용한 2차원 List 순회\n",
    "1. 2차 List의 한 좌표에서 **네 방향의 인접 List 요소를 탐색**할 때 사용하는 방법\n",
    "2. 델타 값은 한 좌표에서 네 방향의 좌표와 x, y의 **차이를 저장한 List로 구현**\n",
    "3. 델타 값을 이용하여 **특정 원소의 상하좌우에 위치**한 원소에 접근할 수 있음"
   ]
  },
  {
   "cell_type": "code",
   "execution_count": 32,
   "metadata": {
    "scrolled": false
   },
   "outputs": [
    {
     "name": "stdout",
     "output_type": "stream",
     "text": [
      "[[1, 2, 3, 4, 5], [6, 7, 8, 9, 10], [11, 12, 13, 14, 15], [16, 17, 18, 19, 20], [21, 22, 23, 24, 25]]\n"
     ]
    }
   ],
   "source": [
    "# 델타를 이용한 2차원 List 순회\n",
    "arr = [[(n + 1 + 5 * m) for n in range(5)] for m in range(5)]\n",
    "print (arr)\n",
    "\n",
    "dx = [0, 0, -1, 1]\n",
    "dy = [-1, 1, 0, 0,]\n",
    "\n",
    "for x in range(len(arr)):\n",
    "    for y in range(len(arr[x])):\n",
    "        for i in range(4):\n",
    "            nx = x + dx[i]\n",
    "            ny = y + dy[i]"
   ]
  },
  {
   "cell_type": "code",
   "execution_count": 36,
   "metadata": {},
   "outputs": [
    {
     "name": "stdout",
     "output_type": "stream",
     "text": [
      "3\n"
     ]
    }
   ],
   "source": [
    "arr = [1,2,3]\n",
    "print( arr[-1])"
   ]
  },
  {
   "cell_type": "markdown",
   "metadata": {},
   "source": [
    "### (7) 전치행렬"
   ]
  },
  {
   "cell_type": "code",
   "execution_count": 22,
   "metadata": {},
   "outputs": [
    {
     "name": "stdout",
     "output_type": "stream",
     "text": [
      "[[1, 4, 7], [2, 5, 8], [3, 6, 9]]\n"
     ]
    }
   ],
   "source": [
    "## 예시 1\n",
    "arr = [\n",
    "    [1, 2, 3],\n",
    "    [4, 5, 6],\n",
    "    [7, 8, 9]\n",
    "]\n",
    "\n",
    "for i in range(len(arr)):\n",
    "    for j in range(len(arr[0])):\n",
    "        if i < j:\n",
    "            arr[i][j], arr[j][i] = arr[j][i], arr[i][j]\n",
    "print (arr)"
   ]
  },
  {
   "cell_type": "code",
   "execution_count": 25,
   "metadata": {},
   "outputs": [
    {
     "name": "stdout",
     "output_type": "stream",
     "text": [
      "[(1, 4, 7), (2, 5, 8), (3, 6, 9)]\n"
     ]
    }
   ],
   "source": [
    "## 예시 2\n",
    "arr = [\n",
    "    [1, 2, 3],\n",
    "    [4, 5, 6],\n",
    "    [7, 8, 9]\n",
    "]\n",
    "print(list(zip(*arr))) #언팩킹\n",
    "\n"
   ]
  },
  {
   "cell_type": "markdown",
   "metadata": {},
   "source": [
    "### 연습문제 1\n",
    "\n",
    "![ex1](img/list2_ex1.png)"
   ]
  },
  {
   "cell_type": "code",
   "execution_count": 46,
   "metadata": {},
   "outputs": [
    {
     "name": "stdout",
     "output_type": "stream",
     "text": [
      "[18, 16, 8, 19, 18, 25, 17, 16, 42, 22, 24, 46, 38, 58, 23, 26, 47, 26, 42, 18, 11, 22, 27, 36, 15]\n",
      "660\n"
     ]
    }
   ],
   "source": [
    "## 연습문제 1\n",
    "import random\n",
    "numbers = random.sample(list(range(1,25+1)), 25)\n",
    "datas = []\n",
    "temp = []\n",
    "i = 0\n",
    "dx = [0, 0, -1, 1]\n",
    "dy = [-1, 1, 0, 0]\n",
    "for number in numbers:\n",
    "    temp.append(number)\n",
    "    i += 1\n",
    "    if i == 5:\n",
    "        datas.append(temp)\n",
    "        temp = []\n",
    "        i = 0\n",
    "#print(datas)\n",
    "sums = []\n",
    "for y in range(5):\n",
    "    for x in range(5):\n",
    "        temp = 0\n",
    "        for i in range(4):\n",
    "            if (y == 0 and i == 0 or\\\n",
    "                   y == 4 and i == 1 or\\\n",
    "                   x == 0 and i == 2 or\\\n",
    "                   x == 4 and i == 3):\n",
    "                pass\n",
    "            else:\n",
    "                temp += abs(datas[y+dy[i]][x+dx[i]]-datas[y][x])\n",
    "        sums.append(temp)\n",
    "print(sums)\n",
    "print(sum(sums))\n",
    "        "
   ]
  },
  {
   "cell_type": "markdown",
   "metadata": {},
   "source": [
    "## II. 부분집합\n",
    "\n",
    "### (1) 부분집합의 합 문제(sum of subsets)\n",
    "\n",
    "```python\n",
    "{-7, -3, -2, 5, 8}\n",
    "# 1. {-3, -2, 5}는 부분 집합\n",
    "# 2. (-3) + (-2) + 5 = 0\n",
    "# >>> 답은 True\n",
    "```\n",
    "\n",
    "1. 완전 검색(Exhaustive Search)\n",
    "- 해당 집합의 모든 부분 집합을 생성(Exhaustive Enumeration)한 후 각 부분 집합의 합을 계산\n",
    "- 주어진 집합의 부분 집합을 생성하는 방법\n",
    "\n",
    "### (2) 부분집합의 수\n",
    "\n",
    "- 특정 집합의 부분 집합의 총 개수\n",
    "\n",
    "  1. 집합의 원소가 n개일 때, 공집합을 포함한 부분 집합의 수는 `2 ** n` 개\n",
    "  2. 각 원소를 부분 집합에 포함시키거나 포함시키지 않는 2가지 경우를 모든 원소에 적용한 경우의 수와 같음"
   ]
  },
  {
   "cell_type": "markdown",
   "metadata": {},
   "source": [
    "### (3) 부분집합 생성하기 : Exhaustive Enumeration"
   ]
  },
  {
   "cell_type": "code",
   "execution_count": null,
   "metadata": {},
   "outputs": [],
   "source": [
    "## 부분집합 생성하기 1\n",
    "\n"
   ]
  },
  {
   "cell_type": "markdown",
   "metadata": {},
   "source": [
    "### (4) 부분집합 생성하기 : Bitmask"
   ]
  },
  {
   "cell_type": "code",
   "execution_count": null,
   "metadata": {},
   "outputs": [],
   "source": [
    "## 부분집합 생성하기 2\n",
    "\n"
   ]
  },
  {
   "cell_type": "markdown",
   "metadata": {},
   "source": [
    "## 연습문제 2\n",
    "\n",
    "> 부분집합의 합 문제 구현하기"
   ]
  },
  {
   "cell_type": "code",
   "execution_count": null,
   "metadata": {},
   "outputs": [],
   "source": [
    "## 연습문제 2 : 10개의 정수를 입력 받아 부분집합의 합이 0이 되는 부분집합이 몇개인지 계산하는 함수 powerset(arr)을 작성하세요.\n"
   ]
  },
  {
   "cell_type": "markdown",
   "metadata": {},
   "source": [
    "## III. 검색\n",
    "\n",
    "### (1) 검색(Search)\n",
    "\n",
    "1. 검색의 의미\n",
    "\n",
    "- 저장되어 있는 자료 중에서 **원하는 항목**을 찾는 작업\n",
    "    - 목적하는 **탐색키**를 가진 항목\n",
    "        - 탐색키(Search Key) : 자료를 구별하여 인식할 수 있는 키\n",
    "\n",
    "2. 검색의 종류\n",
    "\n",
    "- 순차검색\n",
    "- 이진검색\n",
    "- 인덱싱\n",
    "\n",
    "### (2) 순차 검색(Sequential Search)\n",
    "\n",
    "1. 순차 검색\n",
    "\n",
    "- 일렬로 되어 있는 자료를 순서대로 검색하는 방법\n",
    "- 배열이나 Linked List 등 순차구조로 구현된 자료구조에서 유용함\n",
    "- 구현이 쉽지만, 검색 대상이 많은 경우 수행시간의 증가로 비효율적일 수 있음"
   ]
  },
  {
   "cell_type": "code",
   "execution_count": null,
   "metadata": {},
   "outputs": [],
   "source": [
    "## 순차 검색\n",
    "\n"
   ]
  },
  {
   "cell_type": "markdown",
   "metadata": {},
   "source": [
    "### (3) 이진검색"
   ]
  },
  {
   "cell_type": "code",
   "execution_count": null,
   "metadata": {},
   "outputs": [],
   "source": [
    "## 이진 검색\n",
    "\n"
   ]
  },
  {
   "cell_type": "markdown",
   "metadata": {},
   "source": [
    "## IV. 정렬\n",
    "\n",
    "### (1) 셀렉션 알고리즘\n",
    "\n",
    "#### 1. 셀렉션 알고리즘의 의미\n",
    "\n",
    "- 저장되어 있는 자료로부터 **k번째로 큰 (혹은 작은) 원소를 찾는 방법**\n",
    "- 최소값, 최대값 혹은 중간값을 찾는 알고리즘을 의미하기도 함\n",
    "- 셀렉션 과정\n",
    " 1. 정렬 알고리즘을 이용하요 자료를 정렬\n",
    " 2. 원하는 순서에 있는 원소 가져오기\n",
    "\n",
    "#### 2. 셀렉션 알고리즘의 예시\n",
    "\n",
    "- 1번부터 k번째까지 작은 원소들을 찾아 List의 앞쪽으로 이동시키고, List의 k번째를 반환\n",
    "- k가 비교적 작을 때 유용하며 O(kn)의 수행시간을 필요로 함\n",
    "- 예시) k번째로 작은 원소를 찾는 알고리즘"
   ]
  },
  {
   "cell_type": "code",
   "execution_count": 68,
   "metadata": {},
   "outputs": [],
   "source": [
    "## 셀렉션 알고리즘\n",
    "def select(arr, k):\n",
    "    for i in range(k):\n",
    "        min_idx = i\n",
    "        for j in range(i+1, len(arr)):\n",
    "            if arr[min_idx] > arr[j]:\n",
    "                min_idx = j\n",
    "        arr[i], arr[min_idx] = arr[mix_idx], arr[i]\n",
    "    return arr[k-1]"
   ]
  },
  {
   "cell_type": "markdown",
   "metadata": {},
   "source": [
    "### (2) 선택정렬\n",
    "\n",
    "#### 1. 선택 정렬의 의미\n",
    "\n",
    "- 주어진 자료들 중 **가장 작은 값의 원소부터 차례대로** 선택하여 위치를 교환하는 방식\n",
    "- 셀렉션 알고리즘을 전체 자료에 적용한 것\n",
    "- 예시) 포켓볼 테이블의 공들을 차례로 가작 작은 순서대로 정렬하는 방법\n",
    "\n",
    "#### 2. 선택정렬의 정렬 과정\n",
    "\n",
    "1. 주어진 List 중에 **최소값을 찾음**\n",
    "2. 그 값을 List의 맨 앞에 위치한 값과 교환\n",
    "3. 맨 처음 위치를 제외한 나머지 List를 대상으로 위의 과정을 반복\n",
    "\n",
    "#### 3. 선택정렬의 시간 복잡도 \n",
    "\n",
    "- `O(n^2)`"
   ]
  },
  {
   "cell_type": "code",
   "execution_count": 52,
   "metadata": {},
   "outputs": [
    {
     "name": "stdout",
     "output_type": "stream",
     "text": [
      "22\n",
      "[10, 11, 22, 25, 64]\n"
     ]
    }
   ],
   "source": [
    "### 선택 정렬(Selection Sort)\n",
    "def select(arr, k):\n",
    "    for i in range(k):\n",
    "        min_idx = i\n",
    "        for j in range(i+1, len(arr)):\n",
    "            if arr[min_idx] > arr[j]:\n",
    "                min_idx = j\n",
    "        arr[i], arr[min_idx] = arr[min_idx], arr[i]\n",
    "    return arr[k-1]\n",
    "\n",
    "def selection_sort(arr):\n",
    "    for i in range(len(arr)-1):\n",
    "        min_idx = i\n",
    "        for j in range(i+1, len(arr)):\n",
    "            if arr[min_idx] > arr[j]:\n",
    "                min_idx = j\n",
    "        arr[i], arr[min_idx] = arr[min_idx], arr[i]\n",
    "    return arr\n",
    "\n",
    "print(select([64, 25, 10, 22, 11], 3))\n",
    "print(selection_sort([64, 25, 10, 22, 11]))"
   ]
  },
  {
   "cell_type": "markdown",
   "metadata": {},
   "source": [
    "## 연습문제 3\n",
    "\n",
    "![ex3](img/list2_ex3.png)"
   ]
  },
  {
   "cell_type": "code",
   "execution_count": 67,
   "metadata": {},
   "outputs": [
    {
     "name": "stdout",
     "output_type": "stream",
     "text": [
      "[[9, 20, 2, 18, 11], [21, 3, 25, 1, 19], [8, 24, 10, 17, 7], [6, 5, 16, 4, 15], [12, 13, 22, 23, 14]]\n"
     ]
    }
   ],
   "source": [
    "## 연습문제 3\n",
    "datas = [\n",
    "    [9, 20, 2, 18, 11],\n",
    "    [19, 1, 25, 3, 21],\n",
    "    [8, 24, 10, 17, 7],\n",
    "    [15, 4, 16, 5, 6],\n",
    "    [12, 13, 22, 23, 14],\n",
    "]\n",
    "\n",
    "new_datas = []\n",
    "for y in range(5):\n",
    "    temp = []\n",
    "    for x in range(5):\n",
    "        temp.append(datas[y][x + (- 1 - 2 * x ) * (y%2) ])\n",
    "    new_datas.append(temp)\n",
    "    \n",
    "print(new_datas)"
   ]
  }
 ],
 "metadata": {
  "kernelspec": {
   "display_name": "Python 3",
   "language": "python",
   "name": "python3"
  },
  "language_info": {
   "codemirror_mode": {
    "name": "ipython",
    "version": 3
   },
   "file_extension": ".py",
   "mimetype": "text/x-python",
   "name": "python",
   "nbconvert_exporter": "python",
   "pygments_lexer": "ipython3",
   "version": "3.7.3"
  }
 },
 "nbformat": 4,
 "nbformat_minor": 2
}
